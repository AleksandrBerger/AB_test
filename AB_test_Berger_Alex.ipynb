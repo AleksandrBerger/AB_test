{
  "nbformat": 4,
  "nbformat_minor": 0,
  "metadata": {
    "colab": {
      "provenance": [],
      "authorship_tag": "ABX9TyOZSuQXRFcSYssdGeKKIIlB",
      "include_colab_link": true
    },
    "kernelspec": {
      "name": "python3",
      "display_name": "Python 3"
    },
    "language_info": {
      "name": "python"
    }
  },
  "cells": [
    {
      "cell_type": "markdown",
      "metadata": {
        "id": "view-in-github",
        "colab_type": "text"
      },
      "source": [
        "<a href=\"https://colab.research.google.com/github/AleksandrBerger/AB_test/blob/main/AB_test_Berger_Alex.ipynb\" target=\"_parent\"><img src=\"https://colab.research.google.com/assets/colab-badge.svg\" alt=\"Open In Colab\"/></a>"
      ]
    },
    {
      "cell_type": "markdown",
      "source": [
        "# Задача:\n",
        "Группа A - количество участников 21\n",
        "\n",
        "Группа B - количество участников 79\n",
        "\n",
        "Группа A - 7 купили продукт\n",
        "\n",
        "Группа B -  13 купили продукт\n",
        "\n",
        "# Состоялся ли A/B тест?"
      ],
      "metadata": {
        "id": "9CCpI0VHOhym"
      }
    },
    {
      "cell_type": "markdown",
      "source": [
        "**Рассчитываем коэф. конверсии**\n",
        "\n",
        "Чтобы увидеть, есть ли статистически значимая разница между этими коэффициентами конверсии, с помощью python средств, проще всего с помощью библиотеки statsmodels) можно выполнить z-тест с двумя пропорциями.\n",
        "\n",
        "Если p-значение ниже определенного порога альфа, (считаем, что оно равно 0,05), нулевая гипотеза отклоняется  - можно будет сделать вывод о значительной разнице в показателях конверсии."
      ],
      "metadata": {
        "id": "t4fG7DiWMH5R"
      }
    },
    {
      "cell_type": "code",
      "execution_count": 1,
      "metadata": {
        "colab": {
          "base_uri": "https://localhost:8080/"
        },
        "id": "kVGMd-a3MCm8",
        "outputId": "c19a21d3-a5a5-476f-cbae-d463b2e9c8d5"
      },
      "outputs": [
        {
          "output_type": "stream",
          "name": "stdout",
          "text": [
            "Группа A: 7/21 (33.33%)\n",
            "Группа B: 13/79 (16.46%)\n",
            "p-значение: 0.0857\n",
            "Нет статистически значимой разницы между группами A и B\n"
          ]
        }
      ],
      "source": [
        "import statsmodels.api as sm\n",
        "\n",
        "# Группа A\n",
        "total_A = 21  # Общее количество участников в группе A\n",
        "converted_A = 7  # Количество участников, купивших продукт в группе A\n",
        "\n",
        "# Группа B\n",
        "total_B = 79  # Общее количество участников в группе B\n",
        "converted_B = 13  # Количество участников, купивших продукт в группе B\n",
        "\n",
        "# Расчет пропорций\n",
        "prop_A = converted_A / total_A\n",
        "prop_B = converted_B / total_B\n",
        "\n",
        "# Расчет статистической значимости разницы пропорций\n",
        "zscore, pvalue = sm.stats.proportions_ztest([converted_A, converted_B], [total_A, total_B])\n",
        "\n",
        "print(f\"Z-оценка: {zscore}\")\n",
        "print(f\"Группа A: {converted_A}/{total_A} ({prop_A:.2%})\")\n",
        "print(f\"Группа B: {converted_B}/{total_B} ({prop_B:.2%})\")\n",
        "print(f\"p-значение: {pvalue:.4f}\")\n",
        "if pvalue < 0.05:\n",
        "    print(\"Статистически значимая разница между группами A и B\")\n",
        "else:\n",
        "    print(\"Нет статистически значимой разницы между группами A и B\")\n",
        "\n"
      ]
    },
    {
      "cell_type": "markdown",
      "source": [
        "*Можно также посчитать с помощью библиотеки scipy.stats, но в таком случае решение было бы более громоздким*"
      ],
      "metadata": {
        "id": "4it-jPswQtPv"
      }
    },
    {
      "cell_type": "markdown",
      "source": [
        "Основываясь = на рассчитанном значении p - 0,0857, которое выше обычно используемого уровня 0,05, у нас нет достаточных доказательств, чтобы сделать вывод о наличии статистически значимой разницы конверсии между группами A и B. Поэтому мы не можем утверждать, что тест A/B показал значительное влияние группы B по сравнению с группой A.\n",
        "\n",
        "# Следовательно ответ следующий:  **НЕТ**. Тест A/B не смог продемонстрировать значимое различие между группами A и B.\n",
        "\n",
        "*Стоит отметить, что результат не обязательно означает, что разница между группами A и B нет. Мы не можем уверенно утверждать о наличии статистически значимой разницы.*"
      ],
      "metadata": {
        "id": "hMh49ZiaNPlH"
      }
    }
  ]
}